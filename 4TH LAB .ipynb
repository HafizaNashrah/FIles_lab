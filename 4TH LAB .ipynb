{
 "cells": [
  {
   "cell_type": "markdown",
   "metadata": {},
   "source": [
    "# LIST:"
   ]
  },
  {
   "cell_type": "raw",
   "metadata": {},
   "source": [
    "Syntax:\n",
    "name=[index1,index2,............indexn]"
   ]
  },
  {
   "cell_type": "code",
   "execution_count": 55,
   "metadata": {},
   "outputs": [
    {
     "name": "stdout",
     "output_type": "stream",
     "text": [
      "['Sadiq shah', 456, 'Sadiq shah', 'Shoaib Khan', 'Hanan']\n",
      "['Sadiq shah', 456, 'Sadiq shah', 'Shoaib Khan', 'Hanan', 'Hassan']\n",
      "['Sadiq shah', 456, 'Sadiq shah', 'Shoaib Khan', 'Hanan']\n",
      "['Sadiq shah', 'Daniyaal', 456, 'Sadiq shah', 'Shoaib Khan', 'Hanan']\n",
      "['Sadiq shah', 'Daniyaal', 456, 'Sadiq shah', 6677, 'Shoaib Khan', 'Hanan']\n",
      "['Daniyaal', 456, 'Sadiq shah', 6677, 'Shoaib Khan', 'Hanan']\n",
      "['Daniyaal', 456, 'Sadiq shah', 6677, 'Shoaib Khan', 'Hanan']\n",
      "['ali', 456, 'Sadiq shah', 6677, 'Shoaib Khan', 'Hanan']\n",
      "[0, 2, 3, 4, 5, 5, 6, 7, 7, 8, 8]\n",
      "[8, 8, 7, 7, 6, 5, 5, 4, 3, 2, 0]\n"
     ]
    }
   ],
   "source": [
    "# Example:\n",
    "std=[\"Sadiq shah\",456,\"Sadiq shah\",\"Shoaib Khan\",\"Hanan\"]\n",
    "print(std)\n",
    "\n",
    "#append:\n",
    "std.append('Hassan')\n",
    "print(std)\n",
    "\n",
    "#del\n",
    "del std[5]\n",
    "print(std)\n",
    "\n",
    "#insert\n",
    "std.insert(1,\"Daniyaal\")\n",
    "print(std)\n",
    "\n",
    "std.insert(4,6677)   # shift + tab = functionality of the function\n",
    "print(std)\n",
    "\n",
    "#How to Search the index:\n",
    "std.index('Hanan')\n",
    "\n",
    "#remove\n",
    "std.remove('Sadiq shah')\n",
    "print(std)\n",
    "\n",
    "\n",
    "#replace\n",
    "std[0]\n",
    "print(std)\n",
    "std[0]=\"ali\"\n",
    "print(std)\n",
    "\n",
    "\n",
    "#sort\n",
    "name=[2,4,5,6,7,7,3,5,0,8,8]\n",
    "name.sort()\n",
    "print(name)\n",
    "\n",
    "#Resort\n",
    "name.reverse()\n",
    "print(name)\n",
    "\n",
    "\n",
    "\n"
   ]
  },
  {
   "cell_type": "code",
   "execution_count": 62,
   "metadata": {},
   "outputs": [
    {
     "name": "stdout",
     "output_type": "stream",
     "text": [
      "[2, 4, 5, 6, 7, 7, 3, 5, 0, 8, 8]\n",
      "[2, 4, 5, 6, 7, 7, 3, 5, 0, 8, 8, 89]\n",
      "[2, 4, 6, 7, 7, 3, 5, 0, 8, 8, 89]\n",
      "[2, 4, 6, 7, 7, 3, 0, 8, 8, 89]\n",
      "[0, 2, 3, 4, 6, 7, 7, 8, 8, 89]\n"
     ]
    }
   ],
   "source": [
    "\n",
    "#copy to list   #its refernce not copy\n",
    "name=[2,4,5,6,7,7,3,5,0,8,8]\n",
    "name1=name\n",
    "print(name)\n",
    "\n",
    "\n",
    "#adding copying list\n",
    "name1.append(89)\n",
    "print(name1)\n",
    "\n",
    "\n",
    "#remove\n",
    "name1.remove(5)\n",
    "print(name1)\n",
    "\n",
    "#Del\n",
    "\n",
    "del name1[6]\n",
    "print(name1)\n",
    "\n",
    "#sort\n",
    "\n",
    "name1.sort()\n",
    "print(name1)\n",
    "\n",
    "\n"
   ]
  },
  {
   "cell_type": "code",
   "execution_count": 76,
   "metadata": {},
   "outputs": [
    {
     "name": "stdout",
     "output_type": "stream",
     "text": [
      "[2, 54, 6, 7, 8, 9, 7, 98]\n",
      "[2, 54, 6, 7, 8, 9, 7, 98]\n",
      "[2, 54, 6, 8, 9, 7, 98]\n",
      "[2, 54, 6, 7, 8, 9, 7, 98]\n",
      "[98, 7, 9, 8, 7, 6, 54, 2]\n",
      "[]\n",
      "[1]\n",
      "[1, 'daniyaal']\n",
      "[1, 'daniyaal', 'ali']\n",
      "['ali', 'daniyaal', 1]\n"
     ]
    }
   ],
   "source": [
    "#now copying list using keyword copy:\n",
    "#copy Fucntion:\n",
    "name2=[2,54,6,7,8,9,7,98]\n",
    "name1=name2.copy()\n",
    "print(name1)\n",
    "print(name2)\n",
    "\n",
    "del name2[3]\n",
    "print(name2)\n",
    "print(name1)\n",
    "name1.reverse()\n",
    "print(name1)\n",
    "\n",
    "\n",
    "\n",
    "#clear\n",
    "name2.clear()\n",
    "print(name2)\n",
    "name2.append(1)\n",
    "print(name2)\n",
    "name2.append(\"daniyaal\")\n",
    "print(name2)\n",
    "name2.append(\"ali\")\n",
    "print(name2)\n",
    "name2.reverse()\n",
    "print(name2)"
   ]
  },
  {
   "cell_type": "code",
   "execution_count": 87,
   "metadata": {},
   "outputs": [
    {
     "name": "stdout",
     "output_type": "stream",
     "text": [
      "[0, 2, 3, 4, 6, 7, 7, 8]\n",
      "[0, 2, 3, 6, 7, 7, 8]\n"
     ]
    },
    {
     "ename": "NameError",
     "evalue": "name 'pop' is not defined",
     "output_type": "error",
     "traceback": [
      "\u001b[1;31m---------------------------------------------------------------------------\u001b[0m",
      "\u001b[1;31mNameError\u001b[0m                                 Traceback (most recent call last)",
      "\u001b[1;32m<ipython-input-87-9b6775c14713>\u001b[0m in \u001b[0;36m<module>\u001b[1;34m\u001b[0m\n\u001b[0;32m      5\u001b[0m \u001b[0mname\u001b[0m\u001b[1;33m.\u001b[0m\u001b[0mpop\u001b[0m\u001b[1;33m(\u001b[0m\u001b[1;36m3\u001b[0m\u001b[1;33m)\u001b[0m\u001b[1;33m\u001b[0m\u001b[1;33m\u001b[0m\u001b[0m\n\u001b[0;32m      6\u001b[0m \u001b[0mprint\u001b[0m\u001b[1;33m(\u001b[0m\u001b[0mname\u001b[0m\u001b[1;33m)\u001b[0m\u001b[1;33m\u001b[0m\u001b[1;33m\u001b[0m\u001b[0m\n\u001b[1;32m----> 7\u001b[1;33m \u001b[0ma\u001b[0m\u001b[1;33m=\u001b[0m\u001b[0mpop\u001b[0m\u001b[1;33m.\u001b[0m\u001b[0mindex\u001b[0m\u001b[1;33m(\u001b[0m\u001b[1;36m3\u001b[0m\u001b[1;33m)\u001b[0m\u001b[1;33m\u001b[0m\u001b[1;33m\u001b[0m\u001b[0m\n\u001b[0m\u001b[0;32m      8\u001b[0m \u001b[0mprint\u001b[0m\u001b[1;33m(\u001b[0m\u001b[0ma\u001b[0m\u001b[1;33m)\u001b[0m\u001b[1;33m\u001b[0m\u001b[1;33m\u001b[0m\u001b[0m\n",
      "\u001b[1;31mNameError\u001b[0m: name 'pop' is not defined"
     ]
    }
   ],
   "source": [
    "#pop\n",
    "name=[0, 2, 3, 4, 6, 7, 7, 8, 8]\n",
    "name.pop()\n",
    "print(name)\n",
    "name.pop(3)\n",
    "print(name)\n",
    "a=name.index"
   ]
  },
  {
   "cell_type": "code",
   "execution_count": 113,
   "metadata": {},
   "outputs": [],
   "source": [
    "no=[1,2,4,5,6,6,7,8]\n"
   ]
  },
  {
   "cell_type": "code",
   "execution_count": 123,
   "metadata": {},
   "outputs": [
    {
     "ename": "IndexError",
     "evalue": "pop from empty list",
     "output_type": "error",
     "traceback": [
      "\u001b[1;31m---------------------------------------------------------------------------\u001b[0m",
      "\u001b[1;31mIndexError\u001b[0m                                Traceback (most recent call last)",
      "\u001b[1;32m<ipython-input-123-ae1574323fc2>\u001b[0m in \u001b[0;36m<module>\u001b[1;34m\u001b[0m\n\u001b[0;32m      1\u001b[0m \u001b[0mempty_list\u001b[0m\u001b[1;33m=\u001b[0m\u001b[1;33m[\u001b[0m\u001b[1;33m]\u001b[0m\u001b[1;33m\u001b[0m\u001b[1;33m\u001b[0m\u001b[0m\n\u001b[0;32m      2\u001b[0m \u001b[1;33m\u001b[0m\u001b[0m\n\u001b[1;32m----> 3\u001b[1;33m \u001b[0madd\u001b[0m\u001b[1;33m=\u001b[0m\u001b[0mno\u001b[0m\u001b[1;33m.\u001b[0m\u001b[0mpop\u001b[0m\u001b[1;33m(\u001b[0m\u001b[1;33m)\u001b[0m\u001b[1;33m\u001b[0m\u001b[1;33m\u001b[0m\u001b[0m\n\u001b[0m\u001b[0;32m      4\u001b[0m \u001b[0mempty_list\u001b[0m\u001b[1;33m.\u001b[0m\u001b[0mappend\u001b[0m\u001b[1;33m(\u001b[0m\u001b[0mno\u001b[0m\u001b[1;33m)\u001b[0m\u001b[1;33m\u001b[0m\u001b[1;33m\u001b[0m\u001b[0m\n\u001b[0;32m      5\u001b[0m \u001b[0mprint\u001b[0m\u001b[1;33m(\u001b[0m\u001b[0mno\u001b[0m\u001b[1;33m)\u001b[0m\u001b[1;33m\u001b[0m\u001b[1;33m\u001b[0m\u001b[0m\n",
      "\u001b[1;31mIndexError\u001b[0m: pop from empty list"
     ]
    }
   ],
   "source": [
    "empty_list=[]\n",
    "\n",
    "add=no.pop()\n",
    "empty_list.append(no)\n",
    "print(no)"
   ]
  },
  {
   "cell_type": "markdown",
   "metadata": {},
   "source": [
    "add=no.pop()\n",
    "empty_list.append(add)\n",
    "print(no)\n",
    "print(empty_list)\n",
    "if len(no !=0:\n",
    "    print(empty_list)\n",
    "else:\n",
    "    print(\"your list is empty\")"
   ]
  },
  {
   "cell_type": "markdown",
   "metadata": {},
   "source": [
    "# list in list|"
   ]
  },
  {
   "cell_type": "code",
   "execution_count": 169,
   "metadata": {},
   "outputs": [
    {
     "name": "stdout",
     "output_type": "stream",
     "text": [
      "orange\n"
     ]
    }
   ],
   "source": [
    "list1=[34,56,['sadiq shah','apple','orange']]   \n",
    "print(list1[2][2])  # fisr '2' is list index and 2nd  '2' is indx of element"
   ]
  },
  {
   "cell_type": "code",
   "execution_count": 176,
   "metadata": {},
   "outputs": [
    {
     "data": {
      "text/plain": [
       "[[34, 56, ['apple', 'orange']],\n",
       " [34, 56, ['khan', 'pineapple', 'orange']],\n",
       " 'sadiq shah',\n",
       " 'Ali']"
      ]
     },
     "execution_count": 176,
     "metadata": {},
     "output_type": "execute_result"
    }
   ],
   "source": [
    "# List\n",
    "list1=[34,56,['sadiq shah','apple','orange']]  \n",
    "list2=[34,56,['khan','pineapple','orange']] \n",
    "abc=[list1,list2,'sadiq shah','Ali']\n",
    "abc[0][2].remove(\"sadiq shah\")\n",
    "\n",
    "\n",
    "abc"
   ]
  },
  {
   "cell_type": "markdown",
   "metadata": {},
   "source": [
    "# Slicing:"
   ]
  },
  {
   "cell_type": "code",
   "execution_count": 167,
   "metadata": {},
   "outputs": [
    {
     "name": "stdout",
     "output_type": "stream",
     "text": [
      "[6]\n"
     ]
    }
   ],
   "source": [
    "list1=[35,6,7,5,4,6]\n",
    "print(list1[1:2])\n"
   ]
  },
  {
   "cell_type": "code",
   "execution_count": 184,
   "metadata": {},
   "outputs": [
    {
     "name": "stdout",
     "output_type": "stream",
     "text": [
      "[3, 5, 6, 7, 7, 6, 6]\n"
     ]
    }
   ],
   "source": [
    "num=[3,5,6,7,7,6,6,7,9,9,0,5]\n",
    "# num[7:]\n",
    "print(num[:7])"
   ]
  },
  {
   "cell_type": "code",
   "execution_count": null,
   "metadata": {},
   "outputs": [],
   "source": []
  },
  {
   "cell_type": "code",
   "execution_count": null,
   "metadata": {},
   "outputs": [],
   "source": []
  },
  {
   "cell_type": "code",
   "execution_count": 29,
   "metadata": {},
   "outputs": [
    {
     "ename": "IndexError",
     "evalue": "pop from empty list",
     "output_type": "error",
     "traceback": [
      "\u001b[1;31m---------------------------------------------------------------------------\u001b[0m",
      "\u001b[1;31mIndexError\u001b[0m                                Traceback (most recent call last)",
      "\u001b[1;32m<ipython-input-29-352a79263671>\u001b[0m in \u001b[0;36m<module>\u001b[1;34m\u001b[0m\n\u001b[1;32m----> 1\u001b[1;33m \u001b[0mpopedelement\u001b[0m\u001b[1;33m=\u001b[0m\u001b[0mnumber\u001b[0m\u001b[1;33m.\u001b[0m\u001b[0mpop\u001b[0m\u001b[1;33m(\u001b[0m\u001b[1;33m)\u001b[0m\u001b[1;33m\u001b[0m\u001b[1;33m\u001b[0m\u001b[0m\n\u001b[0m\u001b[0;32m      2\u001b[0m \u001b[0mempty_list\u001b[0m\u001b[1;33m.\u001b[0m\u001b[0mappend\u001b[0m\u001b[1;33m(\u001b[0m\u001b[0mpopedelement\u001b[0m\u001b[1;33m)\u001b[0m\u001b[1;33m\u001b[0m\u001b[1;33m\u001b[0m\u001b[0m\n\u001b[0;32m      3\u001b[0m \u001b[0mprint\u001b[0m\u001b[1;33m(\u001b[0m\u001b[0mempty_list\u001b[0m\u001b[1;33m)\u001b[0m\u001b[1;33m\u001b[0m\u001b[1;33m\u001b[0m\u001b[0m\n\u001b[0;32m      4\u001b[0m \u001b[0mprint\u001b[0m\u001b[1;33m(\u001b[0m\u001b[0mnumber\u001b[0m\u001b[1;33m)\u001b[0m\u001b[1;33m\u001b[0m\u001b[1;33m\u001b[0m\u001b[0m\n\u001b[0;32m      5\u001b[0m \u001b[1;33m\u001b[0m\u001b[0m\n",
      "\u001b[1;31mIndexError\u001b[0m: pop from empty list"
     ]
    }
   ],
   "source": []
  },
  {
   "cell_type": "code",
   "execution_count": 47,
   "metadata": {},
   "outputs": [],
   "source": [
    "number=[45,789,65,34,67,55,23]"
   ]
  },
  {
   "cell_type": "code",
   "execution_count": null,
   "metadata": {},
   "outputs": [],
   "source": [
    "empty_list=[]"
   ]
  },
  {
   "cell_type": "code",
   "execution_count": 48,
   "metadata": {},
   "outputs": [
    {
     "name": "stdout",
     "output_type": "stream",
     "text": [
      "[54, 67, 454, 23, 55, 67, 34, 65, 789, 45, 87, 78, 54, 67, 454, 23, 55, 67, 34, 65, 789, 45, 23]\n",
      "[45, 789, 65, 34, 67, 55]\n"
     ]
    },
    {
     "ename": "TypeError",
     "evalue": "object of type 'bool' has no len()",
     "output_type": "error",
     "traceback": [
      "\u001b[1;31m---------------------------------------------------------------------------\u001b[0m",
      "\u001b[1;31mTypeError\u001b[0m                                 Traceback (most recent call last)",
      "\u001b[1;32m<ipython-input-48-fa4a7a829c8a>\u001b[0m in \u001b[0;36m<module>\u001b[1;34m\u001b[0m\n\u001b[0;32m      3\u001b[0m \u001b[0mprint\u001b[0m\u001b[1;33m(\u001b[0m\u001b[0mempty_list\u001b[0m\u001b[1;33m)\u001b[0m\u001b[1;33m\u001b[0m\u001b[1;33m\u001b[0m\u001b[0m\n\u001b[0;32m      4\u001b[0m \u001b[0mprint\u001b[0m\u001b[1;33m(\u001b[0m\u001b[0mnumber\u001b[0m\u001b[1;33m)\u001b[0m\u001b[1;33m\u001b[0m\u001b[1;33m\u001b[0m\u001b[0m\n\u001b[1;32m----> 5\u001b[1;33m \u001b[1;32mif\u001b[0m \u001b[0mlen\u001b[0m\u001b[1;33m(\u001b[0m\u001b[0mnumber\u001b[0m\u001b[1;33m!=\u001b[0m\u001b[1;36m0\u001b[0m\u001b[1;33m)\u001b[0m\u001b[1;33m:\u001b[0m\u001b[1;33m\u001b[0m\u001b[1;33m\u001b[0m\u001b[0m\n\u001b[0m\u001b[0;32m      6\u001b[0m     \u001b[0mprint\u001b[0m\u001b[1;33m(\u001b[0m\u001b[0mempty_list\u001b[0m\u001b[1;33m)\u001b[0m\u001b[1;33m\u001b[0m\u001b[1;33m\u001b[0m\u001b[0m\n\u001b[0;32m      7\u001b[0m \u001b[1;33m\u001b[0m\u001b[0m\n",
      "\u001b[1;31mTypeError\u001b[0m: object of type 'bool' has no len()"
     ]
    }
   ],
   "source": [
    "popedelement=number.pop()\n",
    "empty_list.append(popedelement)\n",
    "print(empty_list)\n",
    "print(number)\n",
    "if len(number!=0:\n",
    "    print(empty_list)\n",
    "    \n",
    "else:\n",
    "    print(\"your list is empty\")"
   ]
  },
  {
   "cell_type": "code",
   "execution_count": null,
   "metadata": {},
   "outputs": [],
   "source": []
  },
  {
   "cell_type": "code",
   "execution_count": null,
   "metadata": {},
   "outputs": [],
   "source": []
  }
 ],
 "metadata": {
  "kernelspec": {
   "display_name": "Python 3",
   "language": "python",
   "name": "python3"
  },
  "language_info": {
   "codemirror_mode": {
    "name": "ipython",
    "version": 3
   },
   "file_extension": ".py",
   "mimetype": "text/x-python",
   "name": "python",
   "nbconvert_exporter": "python",
   "pygments_lexer": "ipython3",
   "version": "3.7.3"
  }
 },
 "nbformat": 4,
 "nbformat_minor": 2
}
