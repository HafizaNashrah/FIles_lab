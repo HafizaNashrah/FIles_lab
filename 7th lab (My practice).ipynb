{
 "cells": [
  {
   "cell_type": "markdown",
   "metadata": {},
   "source": [
    "# FUnction:"
   ]
  },
  {
   "cell_type": "code",
   "execution_count": 3,
   "metadata": {},
   "outputs": [],
   "source": [
    "a=10\n",
    "b=20\n",
    "def sum():\n",
    "    return a+b"
   ]
  },
  {
   "cell_type": "code",
   "execution_count": 4,
   "metadata": {},
   "outputs": [
    {
     "data": {
      "text/plain": [
       "30"
      ]
     },
     "execution_count": 4,
     "metadata": {},
     "output_type": "execute_result"
    }
   ],
   "source": [
    "sum()"
   ]
  },
  {
   "cell_type": "markdown",
   "metadata": {},
   "source": [
    "# Args and Keyword Argument(Kwargs)"
   ]
  },
  {
   "cell_type": "markdown",
   "metadata": {},
   "source": [
    "Positional Arguments:"
   ]
  },
  {
   "cell_type": "code",
   "execution_count": 6,
   "metadata": {},
   "outputs": [],
   "source": [
    "def car(model,car):\n",
    "    print(model,car)"
   ]
  },
  {
   "cell_type": "code",
   "execution_count": 7,
   "metadata": {},
   "outputs": [
    {
     "name": "stdout",
     "output_type": "stream",
     "text": [
      "carolla 2017\n"
     ]
    }
   ],
   "source": [
    "car(\"carolla\",2017)"
   ]
  },
  {
   "cell_type": "code",
   "execution_count": 8,
   "metadata": {},
   "outputs": [
    {
     "name": "stdout",
     "output_type": "stream",
     "text": [
      "2018 Mehraan\n"
     ]
    }
   ],
   "source": [
    "car(2018,\"Mehraan\") #Incorrect Value"
   ]
  },
  {
   "cell_type": "code",
   "execution_count": 26,
   "metadata": {},
   "outputs": [],
   "source": [
    "def name(fname,lname):\n",
    "    print(f\"First name is: {fname}\\nLast name is: {lname}\")\n",
    "    "
   ]
  },
  {
   "cell_type": "code",
   "execution_count": 11,
   "metadata": {},
   "outputs": [
    {
     "name": "stdout",
     "output_type": "stream",
     "text": [
      "First name is: sadiq shah,Last name is: shah\n"
     ]
    }
   ],
   "source": [
    "name(\"sadiq shah\",\"shah\")"
   ]
  },
  {
   "cell_type": "code",
   "execution_count": 19,
   "metadata": {},
   "outputs": [
    {
     "name": "stdout",
     "output_type": "stream",
     "text": [
      "First name is: sadiq shah\n",
      "Last name is: shah shab\n"
     ]
    }
   ],
   "source": [
    "name(fname=\"sadiq shah\\n\",lname=\"shah shab\")"
   ]
  },
  {
   "cell_type": "code",
   "execution_count": 22,
   "metadata": {},
   "outputs": [
    {
     "name": "stdout",
     "output_type": "stream",
     "text": [
      "First name is: Ali\n",
      "Last name is: Sheikh\n"
     ]
    }
   ],
   "source": [
    "name(fname=\"Ali\",lname=\"Sheikh\")"
   ]
  },
  {
   "cell_type": "code",
   "execution_count": 27,
   "metadata": {},
   "outputs": [],
   "source": [
    "# print(fname=\"saadiq shah\",lname=\"shah\")\n"
   ]
  },
  {
   "cell_type": "code",
   "execution_count": 42,
   "metadata": {},
   "outputs": [],
   "source": [
    "# Keyword and positional\n",
    "def name(fname,mname,lname):\n",
    "    print(f\"First name is: {fname}\\nMiddle name: {mname} \\nLast name is: {lname}\")"
   ]
  },
  {
   "cell_type": "code",
   "execution_count": 44,
   "metadata": {},
   "outputs": [
    {
     "ename": "TypeError",
     "evalue": "name() got multiple values for argument 'fname'",
     "output_type": "error",
     "traceback": [
      "\u001b[1;31m---------------------------------------------------------------------------\u001b[0m",
      "\u001b[1;31mTypeError\u001b[0m                                 Traceback (most recent call last)",
      "\u001b[1;32m<ipython-input-44-89b63d474d5d>\u001b[0m in \u001b[0;36m<module>\u001b[1;34m\u001b[0m\n\u001b[1;32m----> 1\u001b[1;33m \u001b[0mname\u001b[0m\u001b[1;33m(\u001b[0m\u001b[1;34m'Sadiq'\u001b[0m \u001b[1;33m,\u001b[0m \u001b[1;34m'shah'\u001b[0m\u001b[1;33m,\u001b[0m \u001b[0mfname\u001b[0m \u001b[1;33m=\u001b[0m \u001b[1;34m'khan'\u001b[0m \u001b[1;33m)\u001b[0m\u001b[1;33m\u001b[0m\u001b[1;33m\u001b[0m\u001b[0m\n\u001b[0m",
      "\u001b[1;31mTypeError\u001b[0m: name() got multiple values for argument 'fname'"
     ]
    }
   ],
   "source": [
    "name('Sadiq' , 'shah', fname = 'khan' )"
   ]
  },
  {
   "cell_type": "code",
   "execution_count": 35,
   "metadata": {},
   "outputs": [
    {
     "name": "stdout",
     "output_type": "stream",
     "text": [
      "First name is: sadiq\n",
      "Middle name: shah \n",
      "Last name is: naseeb\n"
     ]
    }
   ],
   "source": [
    "name(\"sadiq\",\"shah\",\"naseeb\")"
   ]
  },
  {
   "cell_type": "code",
   "execution_count": 59,
   "metadata": {},
   "outputs": [
    {
     "ename": "SyntaxError",
     "evalue": "positional argument follows keyword argument (<ipython-input-59-ac391263356c>, line 1)",
     "output_type": "error",
     "traceback": [
      "\u001b[1;36m  File \u001b[1;32m\"<ipython-input-59-ac391263356c>\"\u001b[1;36m, line \u001b[1;32m1\u001b[0m\n\u001b[1;33m    name(\"sadiq\",mname=\"shah\",\"naseeb\")\u001b[0m\n\u001b[1;37m                             ^\u001b[0m\n\u001b[1;31mSyntaxError\u001b[0m\u001b[1;31m:\u001b[0m positional argument follows keyword argument\n"
     ]
    }
   ],
   "source": [
    "name(\"sadiq\",mname=\"shah\",\"naseeb\")"
   ]
  },
  {
   "cell_type": "code",
   "execution_count": 58,
   "metadata": {},
   "outputs": [
    {
     "ename": "SyntaxError",
     "evalue": "positional argument follows keyword argument (<ipython-input-58-ac391263356c>, line 1)",
     "output_type": "error",
     "traceback": [
      "\u001b[1;36m  File \u001b[1;32m\"<ipython-input-58-ac391263356c>\"\u001b[1;36m, line \u001b[1;32m1\u001b[0m\n\u001b[1;33m    name(\"sadiq\",mname=\"shah\",\"naseeb\")\u001b[0m\n\u001b[1;37m                             ^\u001b[0m\n\u001b[1;31mSyntaxError\u001b[0m\u001b[1;31m:\u001b[0m positional argument follows keyword argument\n"
     ]
    }
   ],
   "source": [
    "name(\"sadiq\",mname=\"shah\",\"naseeb\")"
   ]
  },
  {
   "cell_type": "code",
   "execution_count": 60,
   "metadata": {},
   "outputs": [],
   "source": [
    "def person(f_name , m_name , l_name):\n",
    "    print(f\"My first name is {f_name} and my middle name is {m_name} and my last name is {l_name}.\")"
   ]
  },
  {
   "cell_type": "code",
   "execution_count": 61,
   "metadata": {},
   "outputs": [
    {
     "ename": "TypeError",
     "evalue": "person() got multiple values for argument 'm_name'",
     "output_type": "error",
     "traceback": [
      "\u001b[1;31m---------------------------------------------------------------------------\u001b[0m",
      "\u001b[1;31mTypeError\u001b[0m                                 Traceback (most recent call last)",
      "\u001b[1;32m<ipython-input-61-fe2c7d6b4c28>\u001b[0m in \u001b[0;36m<module>\u001b[1;34m\u001b[0m\n\u001b[1;32m----> 1\u001b[1;33m \u001b[0mperson\u001b[0m\u001b[1;33m(\u001b[0m\u001b[1;34m'Muhammad'\u001b[0m \u001b[1;33m,\u001b[0m \u001b[1;34m'Ahsan'\u001b[0m \u001b[1;33m,\u001b[0m \u001b[0mm_name\u001b[0m \u001b[1;33m=\u001b[0m \u001b[1;34m\"Shahzad\"\u001b[0m\u001b[1;33m)\u001b[0m\u001b[1;33m\u001b[0m\u001b[1;33m\u001b[0m\u001b[0m\n\u001b[0m",
      "\u001b[1;31mTypeError\u001b[0m: person() got multiple values for argument 'm_name'"
     ]
    }
   ],
   "source": [
    "person('Muhammad' , 'Ahsan' , m_name = \"Shahzad\")"
   ]
  },
  {
   "cell_type": "markdown",
   "metadata": {},
   "source": [
    "# More than values pass  by functions:\n",
    "Arbitary Number of Arguments"
   ]
  },
  {
   "cell_type": "code",
   "execution_count": 82,
   "metadata": {},
   "outputs": [],
   "source": [
    "def pizz(size,flavor,*topping): # def (farg,sndarg+++++,*other)\n",
    "    print(f\"Size of Pizza: {size}\\nFlavor of Pizza: {flavor}\")\n",
    "#     print(size,flavor)\n",
    "    print(topping) # form in tuples....\n",
    "    "
   ]
  },
  {
   "cell_type": "code",
   "execution_count": 83,
   "metadata": {},
   "outputs": [
    {
     "name": "stdout",
     "output_type": "stream",
     "text": [
      "Size of Pizza: Large pizza\n",
      "Flavor of Pizza: Fajitta\n",
      "('Chees', 'Butter')\n"
     ]
    }
   ],
   "source": [
    "pizz(\"Large pizza\",\"Fajitta\",\"Chees\",\"Butter\")\n"
   ]
  },
  {
   "cell_type": "code",
   "execution_count": 84,
   "metadata": {},
   "outputs": [
    {
     "name": "stdout",
     "output_type": "stream",
     "text": [
      "Size of Pizza: Large pizza\n",
      "Flavor of Pizza: Fajitta\n",
      "('Chees', 'Butter', 'Chilli source', 'Salt', 'Chickup', 'Extra Chiken')\n"
     ]
    }
   ],
   "source": [
    "pizz(\"Large pizza\",\"Fajitta\",\"Chees\",\"Butter\",\"Chilli source\",\"Salt\",\"Chickup\",\"Extra Chiken\")"
   ]
  },
  {
   "cell_type": "code",
   "execution_count": 85,
   "metadata": {},
   "outputs": [
    {
     "name": "stdout",
     "output_type": "stream",
     "text": [
      "Size of Pizza: Large pizza\n",
      "Flavor of Pizza: Fajitta\n",
      "('Chees', 'Butter', 'Chilli source', 'Salt', 'Chickup', 'Extra Chiken', 'jelepeno', 'Red Chilli')\n"
     ]
    }
   ],
   "source": [
    "pizz(\"Large pizza\",\"Fajitta\",\"Chees\",\"Butter\",\"Chilli source\",\"Salt\",\"Chickup\",\"Extra Chiken\",\"jelepeno\",\"Red Chilli\")"
   ]
  },
  {
   "cell_type": "code",
   "execution_count": 89,
   "metadata": {},
   "outputs": [
    {
     "name": "stdout",
     "output_type": "stream",
     "text": [
      "Size of Pizza: large\n",
      "Flavor of Pizza: chicken tikka\n",
      "('extra cheese', 'olives', 'fajita', 'macroni', 'cocktail', 'Extra Onion', 'Extra Cocumber', 'Extra tomato')\n"
     ]
    }
   ],
   "source": [
    "pizz('large', 'chicken tikka', 'extra cheese','olives','fajita','macroni','cocktail',\"Extra Onion\",\"Extra Cocumber\",\"Extra tomato\")"
   ]
  },
  {
   "cell_type": "code",
   "execution_count": null,
   "metadata": {},
   "outputs": [],
   "source": []
  },
  {
   "cell_type": "code",
   "execution_count": 92,
   "metadata": {},
   "outputs": [],
   "source": [
    "# ** two striks when it will give out put in the form of dictionary:\n",
    "def pizz(size,flavor,**topping): # def (farg,sndarg+++++,*other)\n",
    "    print(f\"Size of Pizza: {size}\\nFlavor of Pizza: {flavor}\")\n",
    "#     print(size,flavor)\n",
    "    print(topping) # form in tuples....\n",
    "    "
   ]
  },
  {
   "cell_type": "code",
   "execution_count": 97,
   "metadata": {},
   "outputs": [
    {
     "name": "stdout",
     "output_type": "stream",
     "text": [
      "Size of Pizza: Small pizza\n",
      "Flavor of Pizza: Vegitable\n",
      "{'extra_pizza': 'chees', 'extrs_pizza': 'Mayoness', 'extrraa_pizza': 'Chilli souce'}\n"
     ]
    }
   ],
   "source": [
    "pizz(\"Small pizza\",\"Vegitable\",extra_pizza=\"chees\",extrs_pizza=\"Mayoness\",extrraa_pizza=\"Chilli souce\")"
   ]
  },
  {
   "cell_type": "markdown",
   "metadata": {},
   "source": [
    "# Function as a variable"
   ]
  },
  {
   "cell_type": "code",
   "execution_count": 5,
   "metadata": {},
   "outputs": [],
   "source": [
    "def add(a,b):\n",
    "    c=a+b\n",
    "    return c\n"
   ]
  },
  {
   "cell_type": "code",
   "execution_count": 6,
   "metadata": {},
   "outputs": [],
   "source": [
    "def sub(a,b):\n",
    "    c=a-b\n",
    "    return c"
   ]
  },
  {
   "cell_type": "code",
   "execution_count": 7,
   "metadata": {},
   "outputs": [
    {
     "name": "stdout",
     "output_type": "stream",
     "text": [
      "Add and subtract after result1: 8\n",
      "Add and subtract after result1: 2\n",
      "Add and subtract after result2: 15\n",
      "Add and subtract after result3: 1.6666666666666667\n"
     ]
    }
   ],
   "source": [
    "result1=add(2,3) + sub(6,3)\n",
    "result2=add(2,3) - sub(6,3)\n",
    "result3=add(2,3) * sub(6,3)\n",
    "result4=add(2,3) / sub(6,3)\n",
    "print(f\"Add and subtract after result1: {result1}\")\n",
    "print(f\"Add and subtract after result1: {result2}\")\n",
    "print(f\"Add and subtract after result2: {result3}\")\n",
    "print(f\"Add and subtract after result3: {result4}\")\n"
   ]
  },
  {
   "cell_type": "code",
   "execution_count": 10,
   "metadata": {},
   "outputs": [
    {
     "name": "stdout",
     "output_type": "stream",
     "text": [
      "Enter 1st number: 76\n",
      "Enter 2nd number: 77\n",
      "Add and Addition after result1: 152\n",
      "Add and subtract after result1: 154\n",
      "Add and subtract after result2: -153\n",
      "Add and subtract after result3: -153.0\n"
     ]
    }
   ],
   "source": [
    "a=int(input(\"Enter 1st number: \"))\n",
    "b=int(input(\"Enter 2nd number: \"))\n",
    "result1=add(a,b) + sub(a,b)\n",
    "result2=add(a,b) - sub(a,b)\n",
    "result3=add(a,b) * sub(a,b)\n",
    "result4=float(add(a,b) / sub(a,b))\n",
    "print(f\"Add and Addition after result1: {result1}\")\n",
    "print(f\"Add and subtract after result1: {result2}\")\n",
    "print(f\"Add and subtract after result2: {result3}\")\n",
    "print(f\"Add and subtract after result3: {result4}\")\n"
   ]
  },
  {
   "cell_type": "code",
   "execution_count": null,
   "metadata": {},
   "outputs": [],
   "source": []
  },
  {
   "cell_type": "code",
   "execution_count": 122,
   "metadata": {},
   "outputs": [
    {
     "name": "stdout",
     "output_type": "stream",
     "text": [
      "sadiq shah   dsgfhsd\n"
     ]
    }
   ],
   "source": [
    "print(sum(\"sadiq shah\", \"   dsgfhsd\"))"
   ]
  },
  {
   "cell_type": "markdown",
   "metadata": {},
   "source": [
    "# While Loop"
   ]
  },
  {
   "cell_type": "code",
   "execution_count": 12,
   "metadata": {},
   "outputs": [
    {
     "name": "stdout",
     "output_type": "stream",
     "text": [
      "0 1 2 3 4 5 6 7 8 9 10 "
     ]
    }
   ],
   "source": [
    "i=0\n",
    "while i<=10:\n",
    "    print(i,end=\" \")\n",
    "    i=i+1"
   ]
  },
  {
   "cell_type": "code",
   "execution_count": 9,
   "metadata": {},
   "outputs": [
    {
     "name": "stdout",
     "output_type": "stream",
     "text": [
      "Enter a Alpabates: f\n",
      "Enter a Alpabates: gh\n",
      "Enter a Alpabates: yy\n",
      "Enter a Alpabates: khkytu\n",
      "Enter a Alpabates: yfghgyj\n",
      "Enter a Alpabates: hkj\n",
      "Enter a Alpabates: gffg\n",
      "Enter a Alpabates: q\n",
      "Enter a Alpabates: q\n",
      "q\n"
     ]
    }
   ],
   "source": [
    "# Qwrite a program to make a program to add vowels in list only\n",
    "vowels=[]\n",
    "condtion=True\n",
    "while condtion:\n",
    "    a=input(\"Enter a Alpabates: \")\n",
    "    if a==\"q\":\n",
    "        vowels.append(a)\n",
    "        condtion = False\n",
    "   \n",
    "\n",
    "    else:\n",
    "#         print(\"Not a vowel..\")\n",
    "        a=input(\"Enter a Alpabates: \")\n",
    "        vowels.append(a)\n",
    "    \n",
    "      \n",
    "        \n",
    "print(a)\n",
    "    "
   ]
  },
  {
   "cell_type": "code",
   "execution_count": 11,
   "metadata": {},
   "outputs": [
    {
     "ename": "NameError",
     "evalue": "name 'dic' is not defined",
     "output_type": "error",
     "traceback": [
      "\u001b[1;31m---------------------------------------------------------------------------\u001b[0m",
      "\u001b[1;31mNameError\u001b[0m                                 Traceback (most recent call last)",
      "\u001b[1;32m<ipython-input-11-0057ad2b79e4>\u001b[0m in \u001b[0;36m<module>\u001b[1;34m\u001b[0m\n\u001b[0;32m      1\u001b[0m dic={\n\u001b[1;32m----> 2\u001b[1;33m     \u001b[0mdic\u001b[0m\u001b[1;33m[\u001b[0m\u001b[1;34m'name'\u001b[0m\u001b[1;33m]\u001b[0m\u001b[1;33m.\u001b[0m\u001b[0minput\u001b[0m\u001b[1;33m(\u001b[0m\u001b[1;34m\"Enter a name\"\u001b[0m\u001b[1;33m)\u001b[0m\u001b[1;33m\u001b[0m\u001b[1;33m\u001b[0m\u001b[0m\n\u001b[0m\u001b[0;32m      3\u001b[0m }\n",
      "\u001b[1;31mNameError\u001b[0m: name 'dic' is not defined"
     ]
    }
   ],
   "source": []
  },
  {
   "cell_type": "code",
   "execution_count": null,
   "metadata": {},
   "outputs": [],
   "source": []
  },
  {
   "cell_type": "code",
   "execution_count": null,
   "metadata": {},
   "outputs": [],
   "source": []
  }
 ],
 "metadata": {
  "kernelspec": {
   "display_name": "Python 3",
   "language": "python",
   "name": "python3"
  },
  "language_info": {
   "codemirror_mode": {
    "name": "ipython",
    "version": 3
   },
   "file_extension": ".py",
   "mimetype": "text/x-python",
   "name": "python",
   "nbconvert_exporter": "python",
   "pygments_lexer": "ipython3",
   "version": "3.7.3"
  }
 },
 "nbformat": 4,
 "nbformat_minor": 2
}
